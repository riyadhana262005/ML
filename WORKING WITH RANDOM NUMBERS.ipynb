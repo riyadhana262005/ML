{
 "cells": [
  {
   "cell_type": "code",
   "execution_count": 1,
   "id": "189fa8c3",
   "metadata": {},
   "outputs": [],
   "source": [
    "import pandas as pd"
   ]
  },
  {
   "cell_type": "code",
   "execution_count": 2,
   "id": "38b011a9",
   "metadata": {},
   "outputs": [],
   "source": [
    "import numpy as np"
   ]
  },
  {
   "cell_type": "markdown",
   "id": "b3d9b8ca",
   "metadata": {},
   "source": [
    "# DATAFRAME"
   ]
  },
  {
   "cell_type": "code",
   "execution_count": 3,
   "id": "7bf1f031",
   "metadata": {},
   "outputs": [],
   "source": [
    "cot_num = pd.DataFrame(np.random.rand(15,1),columns=['Random'])"
   ]
  },
  {
   "cell_type": "code",
   "execution_count": 4,
   "id": "744e54c5",
   "metadata": {},
   "outputs": [
    {
     "data": {
      "text/html": [
       "<div>\n",
       "<style scoped>\n",
       "    .dataframe tbody tr th:only-of-type {\n",
       "        vertical-align: middle;\n",
       "    }\n",
       "\n",
       "    .dataframe tbody tr th {\n",
       "        vertical-align: top;\n",
       "    }\n",
       "\n",
       "    .dataframe thead th {\n",
       "        text-align: right;\n",
       "    }\n",
       "</style>\n",
       "<table border=\"1\" class=\"dataframe\">\n",
       "  <thead>\n",
       "    <tr style=\"text-align: right;\">\n",
       "      <th></th>\n",
       "      <th>Random</th>\n",
       "    </tr>\n",
       "  </thead>\n",
       "  <tbody>\n",
       "    <tr>\n",
       "      <th>0</th>\n",
       "      <td>0.071811</td>\n",
       "    </tr>\n",
       "    <tr>\n",
       "      <th>1</th>\n",
       "      <td>0.367675</td>\n",
       "    </tr>\n",
       "    <tr>\n",
       "      <th>2</th>\n",
       "      <td>0.722990</td>\n",
       "    </tr>\n",
       "    <tr>\n",
       "      <th>3</th>\n",
       "      <td>0.633122</td>\n",
       "    </tr>\n",
       "    <tr>\n",
       "      <th>4</th>\n",
       "      <td>0.921466</td>\n",
       "    </tr>\n",
       "    <tr>\n",
       "      <th>5</th>\n",
       "      <td>0.007458</td>\n",
       "    </tr>\n",
       "    <tr>\n",
       "      <th>6</th>\n",
       "      <td>0.539832</td>\n",
       "    </tr>\n",
       "    <tr>\n",
       "      <th>7</th>\n",
       "      <td>0.449771</td>\n",
       "    </tr>\n",
       "    <tr>\n",
       "      <th>8</th>\n",
       "      <td>0.734144</td>\n",
       "    </tr>\n",
       "    <tr>\n",
       "      <th>9</th>\n",
       "      <td>0.551446</td>\n",
       "    </tr>\n",
       "    <tr>\n",
       "      <th>10</th>\n",
       "      <td>0.921673</td>\n",
       "    </tr>\n",
       "    <tr>\n",
       "      <th>11</th>\n",
       "      <td>0.045790</td>\n",
       "    </tr>\n",
       "    <tr>\n",
       "      <th>12</th>\n",
       "      <td>0.549533</td>\n",
       "    </tr>\n",
       "    <tr>\n",
       "      <th>13</th>\n",
       "      <td>0.459511</td>\n",
       "    </tr>\n",
       "    <tr>\n",
       "      <th>14</th>\n",
       "      <td>0.094369</td>\n",
       "    </tr>\n",
       "  </tbody>\n",
       "</table>\n",
       "</div>"
      ],
      "text/plain": [
       "      Random\n",
       "0   0.071811\n",
       "1   0.367675\n",
       "2   0.722990\n",
       "3   0.633122\n",
       "4   0.921466\n",
       "5   0.007458\n",
       "6   0.539832\n",
       "7   0.449771\n",
       "8   0.734144\n",
       "9   0.551446\n",
       "10  0.921673\n",
       "11  0.045790\n",
       "12  0.549533\n",
       "13  0.459511\n",
       "14  0.094369"
      ]
     },
     "execution_count": 4,
     "metadata": {},
     "output_type": "execute_result"
    }
   ],
   "source": [
    "cot_num"
   ]
  },
  {
   "cell_type": "code",
   "execution_count": 5,
   "id": "277eedac",
   "metadata": {},
   "outputs": [],
   "source": [
    "disc_num = pd.DataFrame(np.random.randint(0,1,15),columns=['Discrete'])"
   ]
  },
  {
   "cell_type": "code",
   "execution_count": 6,
   "id": "9dcbf0f1",
   "metadata": {},
   "outputs": [
    {
     "data": {
      "text/html": [
       "<div>\n",
       "<style scoped>\n",
       "    .dataframe tbody tr th:only-of-type {\n",
       "        vertical-align: middle;\n",
       "    }\n",
       "\n",
       "    .dataframe tbody tr th {\n",
       "        vertical-align: top;\n",
       "    }\n",
       "\n",
       "    .dataframe thead th {\n",
       "        text-align: right;\n",
       "    }\n",
       "</style>\n",
       "<table border=\"1\" class=\"dataframe\">\n",
       "  <thead>\n",
       "    <tr style=\"text-align: right;\">\n",
       "      <th></th>\n",
       "      <th>Discrete</th>\n",
       "    </tr>\n",
       "  </thead>\n",
       "  <tbody>\n",
       "    <tr>\n",
       "      <th>0</th>\n",
       "      <td>0</td>\n",
       "    </tr>\n",
       "    <tr>\n",
       "      <th>1</th>\n",
       "      <td>0</td>\n",
       "    </tr>\n",
       "    <tr>\n",
       "      <th>2</th>\n",
       "      <td>0</td>\n",
       "    </tr>\n",
       "    <tr>\n",
       "      <th>3</th>\n",
       "      <td>0</td>\n",
       "    </tr>\n",
       "    <tr>\n",
       "      <th>4</th>\n",
       "      <td>0</td>\n",
       "    </tr>\n",
       "    <tr>\n",
       "      <th>5</th>\n",
       "      <td>0</td>\n",
       "    </tr>\n",
       "    <tr>\n",
       "      <th>6</th>\n",
       "      <td>0</td>\n",
       "    </tr>\n",
       "    <tr>\n",
       "      <th>7</th>\n",
       "      <td>0</td>\n",
       "    </tr>\n",
       "    <tr>\n",
       "      <th>8</th>\n",
       "      <td>0</td>\n",
       "    </tr>\n",
       "    <tr>\n",
       "      <th>9</th>\n",
       "      <td>0</td>\n",
       "    </tr>\n",
       "    <tr>\n",
       "      <th>10</th>\n",
       "      <td>0</td>\n",
       "    </tr>\n",
       "    <tr>\n",
       "      <th>11</th>\n",
       "      <td>0</td>\n",
       "    </tr>\n",
       "    <tr>\n",
       "      <th>12</th>\n",
       "      <td>0</td>\n",
       "    </tr>\n",
       "    <tr>\n",
       "      <th>13</th>\n",
       "      <td>0</td>\n",
       "    </tr>\n",
       "    <tr>\n",
       "      <th>14</th>\n",
       "      <td>0</td>\n",
       "    </tr>\n",
       "  </tbody>\n",
       "</table>\n",
       "</div>"
      ],
      "text/plain": [
       "    Discrete\n",
       "0          0\n",
       "1          0\n",
       "2          0\n",
       "3          0\n",
       "4          0\n",
       "5          0\n",
       "6          0\n",
       "7          0\n",
       "8          0\n",
       "9          0\n",
       "10         0\n",
       "11         0\n",
       "12         0\n",
       "13         0\n",
       "14         0"
      ]
     },
     "execution_count": 6,
     "metadata": {},
     "output_type": "execute_result"
    }
   ],
   "source": [
    "disc_num"
   ]
  },
  {
   "cell_type": "markdown",
   "id": "eb5e6b39",
   "metadata": {},
   "source": [
    "# Creating DataFrame With Ordinal Data"
   ]
  },
  {
   "cell_type": "code",
   "execution_count": 7,
   "id": "596f5a49",
   "metadata": {},
   "outputs": [],
   "source": [
    "ordinal = pd.DataFrame({'salary':[17000,37000,79000,41000],\n",
    "                        'class':['low','medium','high','medium']})"
   ]
  },
  {
   "cell_type": "code",
   "execution_count": 8,
   "id": "4c7fb146",
   "metadata": {},
   "outputs": [
    {
     "data": {
      "text/html": [
       "<div>\n",
       "<style scoped>\n",
       "    .dataframe tbody tr th:only-of-type {\n",
       "        vertical-align: middle;\n",
       "    }\n",
       "\n",
       "    .dataframe tbody tr th {\n",
       "        vertical-align: top;\n",
       "    }\n",
       "\n",
       "    .dataframe thead th {\n",
       "        text-align: right;\n",
       "    }\n",
       "</style>\n",
       "<table border=\"1\" class=\"dataframe\">\n",
       "  <thead>\n",
       "    <tr style=\"text-align: right;\">\n",
       "      <th></th>\n",
       "      <th>salary</th>\n",
       "      <th>class</th>\n",
       "    </tr>\n",
       "  </thead>\n",
       "  <tbody>\n",
       "    <tr>\n",
       "      <th>0</th>\n",
       "      <td>17000</td>\n",
       "      <td>low</td>\n",
       "    </tr>\n",
       "    <tr>\n",
       "      <th>1</th>\n",
       "      <td>37000</td>\n",
       "      <td>medium</td>\n",
       "    </tr>\n",
       "    <tr>\n",
       "      <th>2</th>\n",
       "      <td>79000</td>\n",
       "      <td>high</td>\n",
       "    </tr>\n",
       "    <tr>\n",
       "      <th>3</th>\n",
       "      <td>41000</td>\n",
       "      <td>medium</td>\n",
       "    </tr>\n",
       "  </tbody>\n",
       "</table>\n",
       "</div>"
      ],
      "text/plain": [
       "   salary   class\n",
       "0   17000     low\n",
       "1   37000  medium\n",
       "2   79000    high\n",
       "3   41000  medium"
      ]
     },
     "execution_count": 8,
     "metadata": {},
     "output_type": "execute_result"
    }
   ],
   "source": [
    "ordinal"
   ]
  },
  {
   "cell_type": "markdown",
   "id": "060666ef",
   "metadata": {},
   "source": [
    "# Creating Database For Nominal Data"
   ]
  },
  {
   "cell_type": "code",
   "execution_count": 9,
   "id": "c6c4bf8b",
   "metadata": {},
   "outputs": [],
   "source": [
    "nominal = pd.DataFrame({'age':[21,35,1,45],'gender':['male','female','male','feamle']})"
   ]
  },
  {
   "cell_type": "code",
   "execution_count": 10,
   "id": "535c653e",
   "metadata": {},
   "outputs": [
    {
     "data": {
      "text/html": [
       "<div>\n",
       "<style scoped>\n",
       "    .dataframe tbody tr th:only-of-type {\n",
       "        vertical-align: middle;\n",
       "    }\n",
       "\n",
       "    .dataframe tbody tr th {\n",
       "        vertical-align: top;\n",
       "    }\n",
       "\n",
       "    .dataframe thead th {\n",
       "        text-align: right;\n",
       "    }\n",
       "</style>\n",
       "<table border=\"1\" class=\"dataframe\">\n",
       "  <thead>\n",
       "    <tr style=\"text-align: right;\">\n",
       "      <th></th>\n",
       "      <th>age</th>\n",
       "      <th>gender</th>\n",
       "    </tr>\n",
       "  </thead>\n",
       "  <tbody>\n",
       "    <tr>\n",
       "      <th>0</th>\n",
       "      <td>21</td>\n",
       "      <td>male</td>\n",
       "    </tr>\n",
       "    <tr>\n",
       "      <th>1</th>\n",
       "      <td>35</td>\n",
       "      <td>female</td>\n",
       "    </tr>\n",
       "    <tr>\n",
       "      <th>2</th>\n",
       "      <td>1</td>\n",
       "      <td>male</td>\n",
       "    </tr>\n",
       "    <tr>\n",
       "      <th>3</th>\n",
       "      <td>45</td>\n",
       "      <td>feamle</td>\n",
       "    </tr>\n",
       "  </tbody>\n",
       "</table>\n",
       "</div>"
      ],
      "text/plain": [
       "   age  gender\n",
       "0   21    male\n",
       "1   35  female\n",
       "2    1    male\n",
       "3   45  feamle"
      ]
     },
     "execution_count": 10,
     "metadata": {},
     "output_type": "execute_result"
    }
   ],
   "source": [
    "nominal"
   ]
  },
  {
   "cell_type": "markdown",
   "id": "e5c5ee03",
   "metadata": {},
   "source": [
    "# Data Pre-Processing-Missing Data"
   ]
  },
  {
   "cell_type": "code",
   "execution_count": 11,
   "id": "62c34de8",
   "metadata": {},
   "outputs": [],
   "source": [
    "import pandas as pd"
   ]
  },
  {
   "cell_type": "code",
   "execution_count": 12,
   "id": "3bc85304",
   "metadata": {},
   "outputs": [],
   "source": [
    "import numpy as np"
   ]
  },
  {
   "cell_type": "code",
   "execution_count": 13,
   "id": "29fd28ab",
   "metadata": {},
   "outputs": [],
   "source": [
    "dataset = pd.read_csv('C:/Users/Admin/Downloads/Data.csv')"
   ]
  },
  {
   "cell_type": "code",
   "execution_count": 14,
   "id": "2d5f1bb4",
   "metadata": {},
   "outputs": [
    {
     "data": {
      "text/html": [
       "<div>\n",
       "<style scoped>\n",
       "    .dataframe tbody tr th:only-of-type {\n",
       "        vertical-align: middle;\n",
       "    }\n",
       "\n",
       "    .dataframe tbody tr th {\n",
       "        vertical-align: top;\n",
       "    }\n",
       "\n",
       "    .dataframe thead th {\n",
       "        text-align: right;\n",
       "    }\n",
       "</style>\n",
       "<table border=\"1\" class=\"dataframe\">\n",
       "  <thead>\n",
       "    <tr style=\"text-align: right;\">\n",
       "      <th></th>\n",
       "      <th>Country</th>\n",
       "      <th>Age</th>\n",
       "      <th>Salary</th>\n",
       "      <th>Purchased</th>\n",
       "    </tr>\n",
       "  </thead>\n",
       "  <tbody>\n",
       "    <tr>\n",
       "      <th>0</th>\n",
       "      <td>France</td>\n",
       "      <td>44.0</td>\n",
       "      <td>NaN</td>\n",
       "      <td>No</td>\n",
       "    </tr>\n",
       "    <tr>\n",
       "      <th>1</th>\n",
       "      <td>Spain</td>\n",
       "      <td>NaN</td>\n",
       "      <td>48000.0</td>\n",
       "      <td>Yes</td>\n",
       "    </tr>\n",
       "    <tr>\n",
       "      <th>2</th>\n",
       "      <td>Germany</td>\n",
       "      <td>30.0</td>\n",
       "      <td>54000.0</td>\n",
       "      <td>No</td>\n",
       "    </tr>\n",
       "    <tr>\n",
       "      <th>3</th>\n",
       "      <td>Spain</td>\n",
       "      <td>38.0</td>\n",
       "      <td>61000.0</td>\n",
       "      <td>No</td>\n",
       "    </tr>\n",
       "    <tr>\n",
       "      <th>4</th>\n",
       "      <td>Germany</td>\n",
       "      <td>40.0</td>\n",
       "      <td>NaN</td>\n",
       "      <td>Yes</td>\n",
       "    </tr>\n",
       "    <tr>\n",
       "      <th>5</th>\n",
       "      <td>France</td>\n",
       "      <td>35.0</td>\n",
       "      <td>58000.0</td>\n",
       "      <td>Yes</td>\n",
       "    </tr>\n",
       "    <tr>\n",
       "      <th>6</th>\n",
       "      <td>Spain</td>\n",
       "      <td>NaN</td>\n",
       "      <td>52000.0</td>\n",
       "      <td>No</td>\n",
       "    </tr>\n",
       "    <tr>\n",
       "      <th>7</th>\n",
       "      <td>France</td>\n",
       "      <td>48.0</td>\n",
       "      <td>79000.0</td>\n",
       "      <td>Yes</td>\n",
       "    </tr>\n",
       "    <tr>\n",
       "      <th>8</th>\n",
       "      <td>Germany</td>\n",
       "      <td>NaN</td>\n",
       "      <td>NaN</td>\n",
       "      <td>No</td>\n",
       "    </tr>\n",
       "    <tr>\n",
       "      <th>9</th>\n",
       "      <td>France</td>\n",
       "      <td>37.0</td>\n",
       "      <td>67000.0</td>\n",
       "      <td>Yes</td>\n",
       "    </tr>\n",
       "  </tbody>\n",
       "</table>\n",
       "</div>"
      ],
      "text/plain": [
       "   Country   Age   Salary Purchased\n",
       "0   France  44.0      NaN        No\n",
       "1    Spain   NaN  48000.0       Yes\n",
       "2  Germany  30.0  54000.0        No\n",
       "3    Spain  38.0  61000.0        No\n",
       "4  Germany  40.0      NaN       Yes\n",
       "5   France  35.0  58000.0       Yes\n",
       "6    Spain   NaN  52000.0        No\n",
       "7   France  48.0  79000.0       Yes\n",
       "8  Germany   NaN      NaN        No\n",
       "9   France  37.0  67000.0       Yes"
      ]
     },
     "execution_count": 14,
     "metadata": {},
     "output_type": "execute_result"
    }
   ],
   "source": [
    "dataset"
   ]
  },
  {
   "cell_type": "code",
   "execution_count": 15,
   "id": "77eaafa4",
   "metadata": {},
   "outputs": [],
   "source": [
    "x = dataset.iloc[:,:-1].values\n",
    "y = dataset.iloc[:,-1].values"
   ]
  },
  {
   "cell_type": "code",
   "execution_count": 16,
   "id": "c470a011",
   "metadata": {},
   "outputs": [
    {
     "data": {
      "text/plain": [
       "array([['France', 44.0, nan],\n",
       "       ['Spain', nan, 48000.0],\n",
       "       ['Germany', 30.0, 54000.0],\n",
       "       ['Spain', 38.0, 61000.0],\n",
       "       ['Germany', 40.0, nan],\n",
       "       ['France', 35.0, 58000.0],\n",
       "       ['Spain', nan, 52000.0],\n",
       "       ['France', 48.0, 79000.0],\n",
       "       ['Germany', nan, nan],\n",
       "       ['France', 37.0, 67000.0]], dtype=object)"
      ]
     },
     "execution_count": 16,
     "metadata": {},
     "output_type": "execute_result"
    }
   ],
   "source": [
    "x"
   ]
  },
  {
   "cell_type": "code",
   "execution_count": 17,
   "id": "f8352fca",
   "metadata": {},
   "outputs": [
    {
     "data": {
      "text/plain": [
       "array(['No', 'Yes', 'No', 'No', 'Yes', 'Yes', 'No', 'Yes', 'No', 'Yes'],\n",
       "      dtype=object)"
      ]
     },
     "execution_count": 17,
     "metadata": {},
     "output_type": "execute_result"
    }
   ],
   "source": [
    "y"
   ]
  },
  {
   "cell_type": "code",
   "execution_count": 18,
   "id": "af6727b0",
   "metadata": {},
   "outputs": [
    {
     "data": {
      "text/plain": [
       "Country      0\n",
       "Age          3\n",
       "Salary       3\n",
       "Purchased    0\n",
       "dtype: int64"
      ]
     },
     "execution_count": 18,
     "metadata": {},
     "output_type": "execute_result"
    }
   ],
   "source": [
    "dataset.isnull().sum()"
   ]
  },
  {
   "cell_type": "code",
   "execution_count": 19,
   "id": "0a90d525",
   "metadata": {},
   "outputs": [],
   "source": [
    "from sklearn.impute import SimpleImputer"
   ]
  },
  {
   "cell_type": "code",
   "execution_count": 20,
   "id": "aaf8c3b4",
   "metadata": {},
   "outputs": [],
   "source": [
    "imputer = SimpleImputer(missing_values=np.nan,strategy='mean')"
   ]
  },
  {
   "cell_type": "code",
   "execution_count": 21,
   "id": "dad4a455",
   "metadata": {},
   "outputs": [
    {
     "data": {
      "text/html": [
       "<style>#sk-container-id-1 {color: black;background-color: white;}#sk-container-id-1 pre{padding: 0;}#sk-container-id-1 div.sk-toggleable {background-color: white;}#sk-container-id-1 label.sk-toggleable__label {cursor: pointer;display: block;width: 100%;margin-bottom: 0;padding: 0.3em;box-sizing: border-box;text-align: center;}#sk-container-id-1 label.sk-toggleable__label-arrow:before {content: \"▸\";float: left;margin-right: 0.25em;color: #696969;}#sk-container-id-1 label.sk-toggleable__label-arrow:hover:before {color: black;}#sk-container-id-1 div.sk-estimator:hover label.sk-toggleable__label-arrow:before {color: black;}#sk-container-id-1 div.sk-toggleable__content {max-height: 0;max-width: 0;overflow: hidden;text-align: left;background-color: #f0f8ff;}#sk-container-id-1 div.sk-toggleable__content pre {margin: 0.2em;color: black;border-radius: 0.25em;background-color: #f0f8ff;}#sk-container-id-1 input.sk-toggleable__control:checked~div.sk-toggleable__content {max-height: 200px;max-width: 100%;overflow: auto;}#sk-container-id-1 input.sk-toggleable__control:checked~label.sk-toggleable__label-arrow:before {content: \"▾\";}#sk-container-id-1 div.sk-estimator input.sk-toggleable__control:checked~label.sk-toggleable__label {background-color: #d4ebff;}#sk-container-id-1 div.sk-label input.sk-toggleable__control:checked~label.sk-toggleable__label {background-color: #d4ebff;}#sk-container-id-1 input.sk-hidden--visually {border: 0;clip: rect(1px 1px 1px 1px);clip: rect(1px, 1px, 1px, 1px);height: 1px;margin: -1px;overflow: hidden;padding: 0;position: absolute;width: 1px;}#sk-container-id-1 div.sk-estimator {font-family: monospace;background-color: #f0f8ff;border: 1px dotted black;border-radius: 0.25em;box-sizing: border-box;margin-bottom: 0.5em;}#sk-container-id-1 div.sk-estimator:hover {background-color: #d4ebff;}#sk-container-id-1 div.sk-parallel-item::after {content: \"\";width: 100%;border-bottom: 1px solid gray;flex-grow: 1;}#sk-container-id-1 div.sk-label:hover label.sk-toggleable__label {background-color: #d4ebff;}#sk-container-id-1 div.sk-serial::before {content: \"\";position: absolute;border-left: 1px solid gray;box-sizing: border-box;top: 0;bottom: 0;left: 50%;z-index: 0;}#sk-container-id-1 div.sk-serial {display: flex;flex-direction: column;align-items: center;background-color: white;padding-right: 0.2em;padding-left: 0.2em;position: relative;}#sk-container-id-1 div.sk-item {position: relative;z-index: 1;}#sk-container-id-1 div.sk-parallel {display: flex;align-items: stretch;justify-content: center;background-color: white;position: relative;}#sk-container-id-1 div.sk-item::before, #sk-container-id-1 div.sk-parallel-item::before {content: \"\";position: absolute;border-left: 1px solid gray;box-sizing: border-box;top: 0;bottom: 0;left: 50%;z-index: -1;}#sk-container-id-1 div.sk-parallel-item {display: flex;flex-direction: column;z-index: 1;position: relative;background-color: white;}#sk-container-id-1 div.sk-parallel-item:first-child::after {align-self: flex-end;width: 50%;}#sk-container-id-1 div.sk-parallel-item:last-child::after {align-self: flex-start;width: 50%;}#sk-container-id-1 div.sk-parallel-item:only-child::after {width: 0;}#sk-container-id-1 div.sk-dashed-wrapped {border: 1px dashed gray;margin: 0 0.4em 0.5em 0.4em;box-sizing: border-box;padding-bottom: 0.4em;background-color: white;}#sk-container-id-1 div.sk-label label {font-family: monospace;font-weight: bold;display: inline-block;line-height: 1.2em;}#sk-container-id-1 div.sk-label-container {text-align: center;}#sk-container-id-1 div.sk-container {/* jupyter's `normalize.less` sets `[hidden] { display: none; }` but bootstrap.min.css set `[hidden] { display: none !important; }` so we also need the `!important` here to be able to override the default hidden behavior on the sphinx rendered scikit-learn.org. See: https://github.com/scikit-learn/scikit-learn/issues/21755 */display: inline-block !important;position: relative;}#sk-container-id-1 div.sk-text-repr-fallback {display: none;}</style><div id=\"sk-container-id-1\" class=\"sk-top-container\"><div class=\"sk-text-repr-fallback\"><pre>SimpleImputer()</pre><b>In a Jupyter environment, please rerun this cell to show the HTML representation or trust the notebook. <br />On GitHub, the HTML representation is unable to render, please try loading this page with nbviewer.org.</b></div><div class=\"sk-container\" hidden><div class=\"sk-item\"><div class=\"sk-estimator sk-toggleable\"><input class=\"sk-toggleable__control sk-hidden--visually\" id=\"sk-estimator-id-1\" type=\"checkbox\" checked><label for=\"sk-estimator-id-1\" class=\"sk-toggleable__label sk-toggleable__label-arrow\">SimpleImputer</label><div class=\"sk-toggleable__content\"><pre>SimpleImputer()</pre></div></div></div></div></div>"
      ],
      "text/plain": [
       "SimpleImputer()"
      ]
     },
     "execution_count": 21,
     "metadata": {},
     "output_type": "execute_result"
    }
   ],
   "source": [
    "imputer.fit(x[:,1:3])"
   ]
  },
  {
   "cell_type": "code",
   "execution_count": 22,
   "id": "00bb2a67",
   "metadata": {},
   "outputs": [],
   "source": [
    "x[:,1:3] = imputer.transform(x[:,1:3])"
   ]
  },
  {
   "cell_type": "code",
   "execution_count": 23,
   "id": "e0d6fd79",
   "metadata": {},
   "outputs": [
    {
     "name": "stdout",
     "output_type": "stream",
     "text": [
      "[['France' 44.0 59857.142857142855]\n",
      " ['Spain' 38.857142857142854 48000.0]\n",
      " ['Germany' 30.0 54000.0]\n",
      " ['Spain' 38.0 61000.0]\n",
      " ['Germany' 40.0 59857.142857142855]\n",
      " ['France' 35.0 58000.0]\n",
      " ['Spain' 38.857142857142854 52000.0]\n",
      " ['France' 48.0 79000.0]\n",
      " ['Germany' 38.857142857142854 59857.142857142855]\n",
      " ['France' 37.0 67000.0]]\n"
     ]
    }
   ],
   "source": [
    "print(x)"
   ]
  },
  {
   "cell_type": "markdown",
   "id": "5d69640d",
   "metadata": {},
   "source": [
    "# Handling Categorical Data-Label"
   ]
  },
  {
   "cell_type": "code",
   "execution_count": 24,
   "id": "fac20b19",
   "metadata": {},
   "outputs": [],
   "source": [
    "import pandas as pd\n"
   ]
  },
  {
   "cell_type": "code",
   "execution_count": 25,
   "id": "a8be2b5b",
   "metadata": {},
   "outputs": [],
   "source": [
    "from sklearn.preprocessing import LabelEncoder"
   ]
  },
  {
   "cell_type": "code",
   "execution_count": 26,
   "id": "753cb206",
   "metadata": {},
   "outputs": [],
   "source": [
    "salary_class = pd.DataFrame({'salary':[5000,84000,22000,8000,7500],\n",
    "                             'Class':['Low','High','Medium','Low','High']})"
   ]
  },
  {
   "cell_type": "code",
   "execution_count": 27,
   "id": "3674c4f2",
   "metadata": {},
   "outputs": [
    {
     "data": {
      "text/html": [
       "<div>\n",
       "<style scoped>\n",
       "    .dataframe tbody tr th:only-of-type {\n",
       "        vertical-align: middle;\n",
       "    }\n",
       "\n",
       "    .dataframe tbody tr th {\n",
       "        vertical-align: top;\n",
       "    }\n",
       "\n",
       "    .dataframe thead th {\n",
       "        text-align: right;\n",
       "    }\n",
       "</style>\n",
       "<table border=\"1\" class=\"dataframe\">\n",
       "  <thead>\n",
       "    <tr style=\"text-align: right;\">\n",
       "      <th></th>\n",
       "      <th>salary</th>\n",
       "      <th>Class</th>\n",
       "    </tr>\n",
       "  </thead>\n",
       "  <tbody>\n",
       "    <tr>\n",
       "      <th>0</th>\n",
       "      <td>5000</td>\n",
       "      <td>Low</td>\n",
       "    </tr>\n",
       "    <tr>\n",
       "      <th>1</th>\n",
       "      <td>84000</td>\n",
       "      <td>High</td>\n",
       "    </tr>\n",
       "    <tr>\n",
       "      <th>2</th>\n",
       "      <td>22000</td>\n",
       "      <td>Medium</td>\n",
       "    </tr>\n",
       "    <tr>\n",
       "      <th>3</th>\n",
       "      <td>8000</td>\n",
       "      <td>Low</td>\n",
       "    </tr>\n",
       "    <tr>\n",
       "      <th>4</th>\n",
       "      <td>7500</td>\n",
       "      <td>High</td>\n",
       "    </tr>\n",
       "  </tbody>\n",
       "</table>\n",
       "</div>"
      ],
      "text/plain": [
       "   salary   Class\n",
       "0    5000     Low\n",
       "1   84000    High\n",
       "2   22000  Medium\n",
       "3    8000     Low\n",
       "4    7500    High"
      ]
     },
     "execution_count": 27,
     "metadata": {},
     "output_type": "execute_result"
    }
   ],
   "source": [
    "salary_class"
   ]
  },
  {
   "cell_type": "markdown",
   "id": "3265900d",
   "metadata": {},
   "source": [
    "# Unique Data"
   ]
  },
  {
   "cell_type": "code",
   "execution_count": 28,
   "id": "967b3c23",
   "metadata": {},
   "outputs": [
    {
     "data": {
      "text/plain": [
       "array(['Low', 'High', 'Medium'], dtype=object)"
      ]
     },
     "execution_count": 28,
     "metadata": {},
     "output_type": "execute_result"
    }
   ],
   "source": [
    "salary_class.Class.unique()"
   ]
  },
  {
   "cell_type": "code",
   "execution_count": 29,
   "id": "d0d37a5a",
   "metadata": {},
   "outputs": [],
   "source": [
    "from sklearn.preprocessing import OrdinalEncoder"
   ]
  },
  {
   "cell_type": "code",
   "execution_count": 30,
   "id": "0e75b89d",
   "metadata": {},
   "outputs": [],
   "source": [
    "order=['Low','Medium','High']"
   ]
  },
  {
   "cell_type": "code",
   "execution_count": 31,
   "id": "b2fafb47",
   "metadata": {},
   "outputs": [
    {
     "data": {
      "text/plain": [
       "['Low', 'Medium', 'High']"
      ]
     },
     "execution_count": 31,
     "metadata": {},
     "output_type": "execute_result"
    }
   ],
   "source": [
    "order"
   ]
  },
  {
   "cell_type": "code",
   "execution_count": 32,
   "id": "e614736b",
   "metadata": {},
   "outputs": [],
   "source": [
    "ord_enc = OrdinalEncoder(categories=[order])"
   ]
  },
  {
   "cell_type": "code",
   "execution_count": 33,
   "id": "6359fb13",
   "metadata": {},
   "outputs": [
    {
     "data": {
      "text/html": [
       "<style>#sk-container-id-2 {color: black;background-color: white;}#sk-container-id-2 pre{padding: 0;}#sk-container-id-2 div.sk-toggleable {background-color: white;}#sk-container-id-2 label.sk-toggleable__label {cursor: pointer;display: block;width: 100%;margin-bottom: 0;padding: 0.3em;box-sizing: border-box;text-align: center;}#sk-container-id-2 label.sk-toggleable__label-arrow:before {content: \"▸\";float: left;margin-right: 0.25em;color: #696969;}#sk-container-id-2 label.sk-toggleable__label-arrow:hover:before {color: black;}#sk-container-id-2 div.sk-estimator:hover label.sk-toggleable__label-arrow:before {color: black;}#sk-container-id-2 div.sk-toggleable__content {max-height: 0;max-width: 0;overflow: hidden;text-align: left;background-color: #f0f8ff;}#sk-container-id-2 div.sk-toggleable__content pre {margin: 0.2em;color: black;border-radius: 0.25em;background-color: #f0f8ff;}#sk-container-id-2 input.sk-toggleable__control:checked~div.sk-toggleable__content {max-height: 200px;max-width: 100%;overflow: auto;}#sk-container-id-2 input.sk-toggleable__control:checked~label.sk-toggleable__label-arrow:before {content: \"▾\";}#sk-container-id-2 div.sk-estimator input.sk-toggleable__control:checked~label.sk-toggleable__label {background-color: #d4ebff;}#sk-container-id-2 div.sk-label input.sk-toggleable__control:checked~label.sk-toggleable__label {background-color: #d4ebff;}#sk-container-id-2 input.sk-hidden--visually {border: 0;clip: rect(1px 1px 1px 1px);clip: rect(1px, 1px, 1px, 1px);height: 1px;margin: -1px;overflow: hidden;padding: 0;position: absolute;width: 1px;}#sk-container-id-2 div.sk-estimator {font-family: monospace;background-color: #f0f8ff;border: 1px dotted black;border-radius: 0.25em;box-sizing: border-box;margin-bottom: 0.5em;}#sk-container-id-2 div.sk-estimator:hover {background-color: #d4ebff;}#sk-container-id-2 div.sk-parallel-item::after {content: \"\";width: 100%;border-bottom: 1px solid gray;flex-grow: 1;}#sk-container-id-2 div.sk-label:hover label.sk-toggleable__label {background-color: #d4ebff;}#sk-container-id-2 div.sk-serial::before {content: \"\";position: absolute;border-left: 1px solid gray;box-sizing: border-box;top: 0;bottom: 0;left: 50%;z-index: 0;}#sk-container-id-2 div.sk-serial {display: flex;flex-direction: column;align-items: center;background-color: white;padding-right: 0.2em;padding-left: 0.2em;position: relative;}#sk-container-id-2 div.sk-item {position: relative;z-index: 1;}#sk-container-id-2 div.sk-parallel {display: flex;align-items: stretch;justify-content: center;background-color: white;position: relative;}#sk-container-id-2 div.sk-item::before, #sk-container-id-2 div.sk-parallel-item::before {content: \"\";position: absolute;border-left: 1px solid gray;box-sizing: border-box;top: 0;bottom: 0;left: 50%;z-index: -1;}#sk-container-id-2 div.sk-parallel-item {display: flex;flex-direction: column;z-index: 1;position: relative;background-color: white;}#sk-container-id-2 div.sk-parallel-item:first-child::after {align-self: flex-end;width: 50%;}#sk-container-id-2 div.sk-parallel-item:last-child::after {align-self: flex-start;width: 50%;}#sk-container-id-2 div.sk-parallel-item:only-child::after {width: 0;}#sk-container-id-2 div.sk-dashed-wrapped {border: 1px dashed gray;margin: 0 0.4em 0.5em 0.4em;box-sizing: border-box;padding-bottom: 0.4em;background-color: white;}#sk-container-id-2 div.sk-label label {font-family: monospace;font-weight: bold;display: inline-block;line-height: 1.2em;}#sk-container-id-2 div.sk-label-container {text-align: center;}#sk-container-id-2 div.sk-container {/* jupyter's `normalize.less` sets `[hidden] { display: none; }` but bootstrap.min.css set `[hidden] { display: none !important; }` so we also need the `!important` here to be able to override the default hidden behavior on the sphinx rendered scikit-learn.org. See: https://github.com/scikit-learn/scikit-learn/issues/21755 */display: inline-block !important;position: relative;}#sk-container-id-2 div.sk-text-repr-fallback {display: none;}</style><div id=\"sk-container-id-2\" class=\"sk-top-container\"><div class=\"sk-text-repr-fallback\"><pre>OrdinalEncoder(categories=[[&#x27;Low&#x27;, &#x27;Medium&#x27;, &#x27;High&#x27;]])</pre><b>In a Jupyter environment, please rerun this cell to show the HTML representation or trust the notebook. <br />On GitHub, the HTML representation is unable to render, please try loading this page with nbviewer.org.</b></div><div class=\"sk-container\" hidden><div class=\"sk-item\"><div class=\"sk-estimator sk-toggleable\"><input class=\"sk-toggleable__control sk-hidden--visually\" id=\"sk-estimator-id-2\" type=\"checkbox\" checked><label for=\"sk-estimator-id-2\" class=\"sk-toggleable__label sk-toggleable__label-arrow\">OrdinalEncoder</label><div class=\"sk-toggleable__content\"><pre>OrdinalEncoder(categories=[[&#x27;Low&#x27;, &#x27;Medium&#x27;, &#x27;High&#x27;]])</pre></div></div></div></div></div>"
      ],
      "text/plain": [
       "OrdinalEncoder(categories=[['Low', 'Medium', 'High']])"
      ]
     },
     "execution_count": 33,
     "metadata": {},
     "output_type": "execute_result"
    }
   ],
   "source": [
    "ord_enc.fit(salary_class[['Class']])"
   ]
  },
  {
   "cell_type": "code",
   "execution_count": 34,
   "id": "7bd1051b",
   "metadata": {},
   "outputs": [],
   "source": [
    "salary_class[\"Class\"]= ord_enc.fit_transform(salary_class[[\"Class\"]])"
   ]
  },
  {
   "cell_type": "code",
   "execution_count": 35,
   "id": "e1d7a321",
   "metadata": {},
   "outputs": [
    {
     "data": {
      "text/html": [
       "<div>\n",
       "<style scoped>\n",
       "    .dataframe tbody tr th:only-of-type {\n",
       "        vertical-align: middle;\n",
       "    }\n",
       "\n",
       "    .dataframe tbody tr th {\n",
       "        vertical-align: top;\n",
       "    }\n",
       "\n",
       "    .dataframe thead th {\n",
       "        text-align: right;\n",
       "    }\n",
       "</style>\n",
       "<table border=\"1\" class=\"dataframe\">\n",
       "  <thead>\n",
       "    <tr style=\"text-align: right;\">\n",
       "      <th></th>\n",
       "      <th>salary</th>\n",
       "      <th>Class</th>\n",
       "    </tr>\n",
       "  </thead>\n",
       "  <tbody>\n",
       "    <tr>\n",
       "      <th>0</th>\n",
       "      <td>5000</td>\n",
       "      <td>0.0</td>\n",
       "    </tr>\n",
       "    <tr>\n",
       "      <th>1</th>\n",
       "      <td>84000</td>\n",
       "      <td>2.0</td>\n",
       "    </tr>\n",
       "    <tr>\n",
       "      <th>2</th>\n",
       "      <td>22000</td>\n",
       "      <td>1.0</td>\n",
       "    </tr>\n",
       "    <tr>\n",
       "      <th>3</th>\n",
       "      <td>8000</td>\n",
       "      <td>0.0</td>\n",
       "    </tr>\n",
       "    <tr>\n",
       "      <th>4</th>\n",
       "      <td>7500</td>\n",
       "      <td>2.0</td>\n",
       "    </tr>\n",
       "  </tbody>\n",
       "</table>\n",
       "</div>"
      ],
      "text/plain": [
       "   salary  Class\n",
       "0    5000    0.0\n",
       "1   84000    2.0\n",
       "2   22000    1.0\n",
       "3    8000    0.0\n",
       "4    7500    2.0"
      ]
     },
     "execution_count": 35,
     "metadata": {},
     "output_type": "execute_result"
    }
   ],
   "source": [
    "salary_class"
   ]
  },
  {
   "cell_type": "markdown",
   "id": "aef80602",
   "metadata": {},
   "source": [
    "# Feature Scaling"
   ]
  },
  {
   "cell_type": "code",
   "execution_count": 36,
   "id": "562abd3a",
   "metadata": {},
   "outputs": [],
   "source": [
    "import pandas as pd"
   ]
  },
  {
   "cell_type": "code",
   "execution_count": 37,
   "id": "6320ee52",
   "metadata": {},
   "outputs": [],
   "source": [
    "import numpy as np"
   ]
  },
  {
   "cell_type": "code",
   "execution_count": 38,
   "id": "d2d8c05a",
   "metadata": {},
   "outputs": [],
   "source": [
    "stand_scaler=pd.DataFrame({'x1':np.random.normal(0,2,100),\n",
    "                           'x2':np.random.normal(3,5,100),\n",
    "                            'x3':np.random.normal(-2,2,100)})"
   ]
  },
  {
   "cell_type": "code",
   "execution_count": 39,
   "id": "6509a1ae",
   "metadata": {},
   "outputs": [
    {
     "data": {
      "text/html": [
       "<div>\n",
       "<style scoped>\n",
       "    .dataframe tbody tr th:only-of-type {\n",
       "        vertical-align: middle;\n",
       "    }\n",
       "\n",
       "    .dataframe tbody tr th {\n",
       "        vertical-align: top;\n",
       "    }\n",
       "\n",
       "    .dataframe thead th {\n",
       "        text-align: right;\n",
       "    }\n",
       "</style>\n",
       "<table border=\"1\" class=\"dataframe\">\n",
       "  <thead>\n",
       "    <tr style=\"text-align: right;\">\n",
       "      <th></th>\n",
       "      <th>x1</th>\n",
       "      <th>x2</th>\n",
       "      <th>x3</th>\n",
       "    </tr>\n",
       "  </thead>\n",
       "  <tbody>\n",
       "    <tr>\n",
       "      <th>0</th>\n",
       "      <td>3.841557</td>\n",
       "      <td>4.597727</td>\n",
       "      <td>-6.235331</td>\n",
       "    </tr>\n",
       "    <tr>\n",
       "      <th>1</th>\n",
       "      <td>1.771018</td>\n",
       "      <td>17.601454</td>\n",
       "      <td>-2.156381</td>\n",
       "    </tr>\n",
       "    <tr>\n",
       "      <th>2</th>\n",
       "      <td>-1.336395</td>\n",
       "      <td>1.217583</td>\n",
       "      <td>-4.438676</td>\n",
       "    </tr>\n",
       "    <tr>\n",
       "      <th>3</th>\n",
       "      <td>0.372596</td>\n",
       "      <td>2.562987</td>\n",
       "      <td>-2.069090</td>\n",
       "    </tr>\n",
       "    <tr>\n",
       "      <th>4</th>\n",
       "      <td>-0.988700</td>\n",
       "      <td>11.635349</td>\n",
       "      <td>-5.704804</td>\n",
       "    </tr>\n",
       "    <tr>\n",
       "      <th>...</th>\n",
       "      <td>...</td>\n",
       "      <td>...</td>\n",
       "      <td>...</td>\n",
       "    </tr>\n",
       "    <tr>\n",
       "      <th>95</th>\n",
       "      <td>0.967995</td>\n",
       "      <td>1.394527</td>\n",
       "      <td>0.766560</td>\n",
       "    </tr>\n",
       "    <tr>\n",
       "      <th>96</th>\n",
       "      <td>1.459500</td>\n",
       "      <td>2.181284</td>\n",
       "      <td>-3.432936</td>\n",
       "    </tr>\n",
       "    <tr>\n",
       "      <th>97</th>\n",
       "      <td>-1.831611</td>\n",
       "      <td>7.132876</td>\n",
       "      <td>-2.070265</td>\n",
       "    </tr>\n",
       "    <tr>\n",
       "      <th>98</th>\n",
       "      <td>0.460035</td>\n",
       "      <td>1.147248</td>\n",
       "      <td>-1.376649</td>\n",
       "    </tr>\n",
       "    <tr>\n",
       "      <th>99</th>\n",
       "      <td>2.480575</td>\n",
       "      <td>-0.000885</td>\n",
       "      <td>0.018296</td>\n",
       "    </tr>\n",
       "  </tbody>\n",
       "</table>\n",
       "<p>100 rows × 3 columns</p>\n",
       "</div>"
      ],
      "text/plain": [
       "          x1         x2        x3\n",
       "0   3.841557   4.597727 -6.235331\n",
       "1   1.771018  17.601454 -2.156381\n",
       "2  -1.336395   1.217583 -4.438676\n",
       "3   0.372596   2.562987 -2.069090\n",
       "4  -0.988700  11.635349 -5.704804\n",
       "..       ...        ...       ...\n",
       "95  0.967995   1.394527  0.766560\n",
       "96  1.459500   2.181284 -3.432936\n",
       "97 -1.831611   7.132876 -2.070265\n",
       "98  0.460035   1.147248 -1.376649\n",
       "99  2.480575  -0.000885  0.018296\n",
       "\n",
       "[100 rows x 3 columns]"
      ]
     },
     "execution_count": 39,
     "metadata": {},
     "output_type": "execute_result"
    }
   ],
   "source": [
    "stand_scaler"
   ]
  },
  {
   "cell_type": "markdown",
   "id": "5f7131dc",
   "metadata": {},
   "source": [
    "# Density Graph Of Data"
   ]
  },
  {
   "cell_type": "code",
   "execution_count": 40,
   "id": "8b804c78",
   "metadata": {},
   "outputs": [
    {
     "data": {
      "text/plain": [
       "<Axes: ylabel='Density'>"
      ]
     },
     "execution_count": 40,
     "metadata": {},
     "output_type": "execute_result"
    },
    {
     "data": {
      "image/png": "[encoded data removed]",
      "text/plain": [
       "<Figure size 640x480 with 1 Axes>"
      ]
     },
     "metadata": {},
     "output_type": "display_data"
    }
   ],
   "source": [
    "stand_scaler.plot.kde()"
   ]
  },
  {
   "cell_type": "markdown",
   "id": "09d9a4a6",
   "metadata": {},
   "source": [
    "# Importing Standrad Scaler Function"
   ]
  },
  {
   "cell_type": "code",
   "execution_count": 41,
   "id": "5e676b63",
   "metadata": {},
   "outputs": [],
   "source": [
    "from sklearn.preprocessing import StandardScaler"
   ]
  },
  {
   "cell_type": "code",
   "execution_count": 44,
   "id": "78e9f740",
   "metadata": {},
   "outputs": [],
   "source": [
    "Stand_Sc=StandardScaler()"
   ]
  },
  {
   "cell_type": "markdown",
   "id": "fa3063df",
   "metadata": {},
   "source": [
    "# Fitting & Viewing Data Frame"
   ]
  },
  {
   "cell_type": "code",
   "execution_count": 47,
   "id": "22ea2d32",
   "metadata": {},
   "outputs": [],
   "source": [
    " stand_scaler=stand_Sc.fit_transform(stand_scaler)"
   ]
  },
  {
   "cell_type": "code",
   "execution_count": 48,
   "id": "fd048a1d",
   "metadata": {},
   "outputs": [
    {
     "data": {
      "text/plain": [
       "array([[ 1.65182415e+00,  3.78706680e-01, -1.84178660e+00],\n",
       "       [ 7.17257658e-01,  3.15554401e+00,  4.79074164e-02],\n",
       "       [-6.85316510e-01, -3.43094931e-01, -1.00943294e+00],\n",
       "       [ 8.60604259e-02, -5.57951198e-02,  8.83477815e-02],\n",
       "       [-5.28379573e-01,  1.88153213e+00, -1.59600428e+00],\n",
       "       [-2.42073949e+00, -5.91243759e-01, -4.72701866e-01],\n",
       "       [ 6.60080617e-01, -1.12452648e+00, -6.60301337e-02],\n",
       "       [ 4.34755847e-02,  1.51834497e+00, -2.67141348e-01],\n",
       "       [-1.54054107e+00, -2.03278280e-01, -6.94596976e-01],\n",
       "       [ 7.23655098e-01,  1.18375334e+00,  1.14134093e+00],\n",
       "       [-3.06136927e-01,  1.38840074e-01,  1.22534708e+00],\n",
       "       [ 4.61960104e-01, -1.74913739e-01, -9.77783476e-01],\n",
       "       [-1.08876385e+00, -1.69319751e+00, -2.77237265e-01],\n",
       "       [-7.85018309e-02, -4.58727391e-01, -6.99754308e-01],\n",
       "       [ 1.53804061e+00,  6.14262292e-01, -8.19490669e-01],\n",
       "       [ 4.72870248e-03, -2.44739929e+00,  1.05477688e+00],\n",
       "       [ 1.00905432e+00,  1.18602824e+00, -2.23451545e+00],\n",
       "       [-5.64172540e-01,  4.45288799e-01, -1.16396186e+00],\n",
       "       [-2.90623500e-01, -3.40250934e-01, -2.19244046e-01],\n",
       "       [ 1.29849634e-01,  6.35149488e-01,  8.15327396e-01],\n",
       "       [-7.22469500e-01,  1.07546388e+00, -2.72299672e-01],\n",
       "       [ 1.12758059e+00, -6.01243596e-02,  1.50798587e-01],\n",
       "       [-1.71361798e-01, -8.21243667e-01,  1.89425475e-01],\n",
       "       [-2.80534147e-01, -4.34205872e-01,  8.93039459e-01],\n",
       "       [-1.52907128e+00, -2.52470934e-01, -1.13064510e-01],\n",
       "       [-1.11661908e+00,  8.55094388e-01,  1.73195565e+00],\n",
       "       [-1.72377236e+00,  1.53514426e+00, -7.64620361e-01],\n",
       "       [ 8.82397310e-01,  1.93488657e-01,  2.40250625e-01],\n",
       "       [ 6.08677627e-01, -4.58011807e-01,  1.13598000e-01],\n",
       "       [ 1.82532454e+00,  2.54535334e+00,  3.10851791e-02],\n",
       "       [ 3.05176812e-01,  1.27833841e+00,  9.45246556e-01],\n",
       "       [-6.92996737e-01,  1.32353678e+00, -2.28033213e-01],\n",
       "       [-1.02537755e+00, -9.92773682e-01,  1.14711092e+00],\n",
       "       [ 4.72755956e-01,  9.59435441e-03,  5.82008480e-01],\n",
       "       [-3.35745329e-01, -2.74468496e-01,  4.71982371e-01],\n",
       "       [-1.52760488e-01,  7.72398894e-01,  1.34166938e-01],\n",
       "       [-1.88267536e-01,  1.97654221e-02, -6.90833155e-01],\n",
       "       [-1.51940003e+00, -4.77651263e-01, -1.69081610e+00],\n",
       "       [-1.41370590e+00, -3.89655143e-01, -4.46670018e-01],\n",
       "       [-5.77337105e-01, -4.40033445e-02,  1.00299380e+00],\n",
       "       [ 5.12466847e-02,  1.39802282e+00,  1.09760106e+00],\n",
       "       [ 2.82668081e-01, -6.83193273e-01, -7.50123060e-02],\n",
       "       [-5.25542603e-01,  9.72922238e-01,  2.19374634e+00],\n",
       "       [ 8.69701753e-01, -6.75876746e-01,  9.36040027e-01],\n",
       "       [ 1.88378977e+00, -3.01247085e-01,  5.61364882e-02],\n",
       "       [ 2.20734309e-01,  1.09322617e+00,  2.12243955e+00],\n",
       "       [-8.63781376e-01, -9.19601749e-01, -5.66926673e-01],\n",
       "       [-2.91043513e-01,  6.77443243e-02, -6.20899723e-01],\n",
       "       [-1.76758018e+00,  1.32748214e+00, -4.34190147e-01],\n",
       "       [ 3.83112042e-01,  2.05438455e-01,  1.28232873e+00],\n",
       "       [ 8.66966321e-01,  6.27740208e-01,  2.50011045e-01],\n",
       "       [ 2.18567311e-02,  1.50360008e-01, -1.51029553e+00],\n",
       "       [ 2.35019239e-01,  4.25721620e-01, -2.56410099e+00],\n",
       "       [-8.28887802e-01, -6.24688538e-01,  5.04514192e-01],\n",
       "       [-8.46528726e-01,  1.00508317e-01,  1.52898767e-01],\n",
       "       [-4.05939488e-01,  4.90372985e-01,  1.67807869e+00],\n",
       "       [ 7.33682686e-01, -1.16428968e+00,  1.85043048e+00],\n",
       "       [-2.25924845e+00,  1.37816326e-01,  1.07976328e+00],\n",
       "       [ 1.42507934e+00,  7.72279900e-02, -1.71958652e+00],\n",
       "       [ 3.86909442e-01, -3.01639380e-01, -5.71107077e-01],\n",
       "       [ 1.77441114e+00, -1.63696614e-01, -5.26799232e-01],\n",
       "       [-1.00268482e+00, -1.01251529e+00,  8.19198969e-01],\n",
       "       [-7.75792396e-01,  8.48095296e-01, -1.01969791e-01],\n",
       "       [ 7.20956832e-01, -1.18633985e+00, -4.40913620e-01],\n",
       "       [ 6.58896741e-01, -4.56288086e-03, -7.38002750e-01],\n",
       "       [ 1.06588481e+00, -2.89203648e+00, -1.18628383e+00],\n",
       "       [ 6.34451272e-01, -1.12736266e+00,  3.08630469e-01],\n",
       "       [ 6.29557069e-01, -5.73959463e-02, -1.58995853e+00],\n",
       "       [-1.02357147e+00, -9.63754909e-01, -2.56537286e-01],\n",
       "       [-8.52674758e-01, -1.34300091e+00, -8.86957336e-02],\n",
       "       [-1.42480251e+00, -2.62998185e-01, -1.40261767e+00],\n",
       "       [-6.79297889e-02,  7.15868248e-02,  4.81575729e-01],\n",
       "       [ 1.76618048e+00,  1.12848057e+00, -1.15174103e+00],\n",
       "       [ 1.78724425e+00,  5.50147386e-01, -7.54389958e-04],\n",
       "       [-1.30530506e+00,  1.75514942e+00, -6.92213981e-01],\n",
       "       [-7.02144078e-01, -1.72023872e+00, -1.37499129e-01],\n",
       "       [ 1.07515119e+00,  4.98989594e-02, -4.78842194e-01],\n",
       "       [ 1.49345777e-02, -2.14536176e+00,  1.29297794e-01],\n",
       "       [ 2.66153395e-02,  2.40286386e-01,  2.93440633e-01],\n",
       "       [ 1.87329024e+00, -2.35348189e+00,  2.80521000e-02],\n",
       "       [ 4.28907241e-01, -1.04827650e-01,  4.45683967e-01],\n",
       "       [ 9.08078257e-01,  4.65361839e-01,  6.73385158e-01],\n",
       "       [ 1.02254442e-01,  1.75596972e-01,  6.57595325e-01],\n",
       "       [-6.22545106e-01, -5.12895078e-01,  1.06820549e+00],\n",
       "       [ 4.35532082e-01,  1.45449652e+00, -1.18874756e+00],\n",
       "       [ 1.66472295e+00, -5.02294764e-01, -7.18992085e-01],\n",
       "       [-5.05429212e-01, -6.96249831e-01,  1.05782042e+00],\n",
       "       [ 9.54054198e-01, -5.40686486e-01, -1.51595986e-01],\n",
       "       [ 1.13650537e+00,  1.14288130e-01,  1.08197442e+00],\n",
       "       [-1.19830083e+00, -4.90237058e-01,  9.52740248e-01],\n",
       "       [ 1.10562589e+00, -7.98651883e-01,  2.29716843e-01],\n",
       "       [-1.50486789e+00,  4.66485909e-01,  9.25415410e-01],\n",
       "       [-1.69606190e+00,  1.18774627e+00,  8.85073700e-01],\n",
       "       [ 7.23780025e-01, -4.48671744e-02, -3.10821730e+00],\n",
       "       [-8.58109984e-01, -6.12853362e-01,  9.09127306e-01],\n",
       "       [ 3.54801840e-01, -3.05309980e-01,  1.40204608e+00],\n",
       "       [ 5.76649825e-01, -1.37304443e-01, -5.43494123e-01],\n",
       "       [-9.08839319e-01,  9.20066521e-01,  8.78033032e-02],\n",
       "       [ 1.25527013e-01, -3.58114192e-01,  4.09141344e-01],\n",
       "       [ 1.03752619e+00, -6.03288584e-01,  1.05539055e+00]])"
      ]
     },
     "execution_count": 48,
     "metadata": {},
     "output_type": "execute_result"
    }
   ],
   "source": [
    "stand_scaler"
   ]
  },
  {
   "cell_type": "code",
   "execution_count": 52,
   "id": "000391d1",
   "metadata": {},
   "outputs": [],
   "source": [
    "stand_scaler=pd.DataFrame(stand_scaler,columns=['X1','X2','X3'])"
   ]
  },
  {
   "cell_type": "code",
   "execution_count": 53,
   "id": "c51d0459",
   "metadata": {},
   "outputs": [
    {
     "data": {
      "text/html": [
       "<div>\n",
       "<style scoped>\n",
       "    .dataframe tbody tr th:only-of-type {\n",
       "        vertical-align: middle;\n",
       "    }\n",
       "\n",
       "    .dataframe tbody tr th {\n",
       "        vertical-align: top;\n",
       "    }\n",
       "\n",
       "    .dataframe thead th {\n",
       "        text-align: right;\n",
       "    }\n",
       "</style>\n",
       "<table border=\"1\" class=\"dataframe\">\n",
       "  <thead>\n",
       "    <tr style=\"text-align: right;\">\n",
       "      <th></th>\n",
       "      <th>X1</th>\n",
       "      <th>X2</th>\n",
       "      <th>X3</th>\n",
       "    </tr>\n",
       "  </thead>\n",
       "  <tbody>\n",
       "    <tr>\n",
       "      <th>0</th>\n",
       "      <td>1.651824</td>\n",
       "      <td>0.378707</td>\n",
       "      <td>-1.841787</td>\n",
       "    </tr>\n",
       "    <tr>\n",
       "      <th>1</th>\n",
       "      <td>0.717258</td>\n",
       "      <td>3.155544</td>\n",
       "      <td>0.047907</td>\n",
       "    </tr>\n",
       "    <tr>\n",
       "      <th>2</th>\n",
       "      <td>-0.685317</td>\n",
       "      <td>-0.343095</td>\n",
       "      <td>-1.009433</td>\n",
       "    </tr>\n",
       "    <tr>\n",
       "      <th>3</th>\n",
       "      <td>0.086060</td>\n",
       "      <td>-0.055795</td>\n",
       "      <td>0.088348</td>\n",
       "    </tr>\n",
       "    <tr>\n",
       "      <th>4</th>\n",
       "      <td>-0.528380</td>\n",
       "      <td>1.881532</td>\n",
       "      <td>-1.596004</td>\n",
       "    </tr>\n",
       "    <tr>\n",
       "      <th>...</th>\n",
       "      <td>...</td>\n",
       "      <td>...</td>\n",
       "      <td>...</td>\n",
       "    </tr>\n",
       "    <tr>\n",
       "      <th>95</th>\n",
       "      <td>0.354802</td>\n",
       "      <td>-0.305310</td>\n",
       "      <td>1.402046</td>\n",
       "    </tr>\n",
       "    <tr>\n",
       "      <th>96</th>\n",
       "      <td>0.576650</td>\n",
       "      <td>-0.137304</td>\n",
       "      <td>-0.543494</td>\n",
       "    </tr>\n",
       "    <tr>\n",
       "      <th>97</th>\n",
       "      <td>-0.908839</td>\n",
       "      <td>0.920067</td>\n",
       "      <td>0.087803</td>\n",
       "    </tr>\n",
       "    <tr>\n",
       "      <th>98</th>\n",
       "      <td>0.125527</td>\n",
       "      <td>-0.358114</td>\n",
       "      <td>0.409141</td>\n",
       "    </tr>\n",
       "    <tr>\n",
       "      <th>99</th>\n",
       "      <td>1.037526</td>\n",
       "      <td>-0.603289</td>\n",
       "      <td>1.055391</td>\n",
       "    </tr>\n",
       "  </tbody>\n",
       "</table>\n",
       "<p>100 rows × 3 columns</p>\n",
       "</div>"
      ],
      "text/plain": [
       "          X1        X2        X3\n",
       "0   1.651824  0.378707 -1.841787\n",
       "1   0.717258  3.155544  0.047907\n",
       "2  -0.685317 -0.343095 -1.009433\n",
       "3   0.086060 -0.055795  0.088348\n",
       "4  -0.528380  1.881532 -1.596004\n",
       "..       ...       ...       ...\n",
       "95  0.354802 -0.305310  1.402046\n",
       "96  0.576650 -0.137304 -0.543494\n",
       "97 -0.908839  0.920067  0.087803\n",
       "98  0.125527 -0.358114  0.409141\n",
       "99  1.037526 -0.603289  1.055391\n",
       "\n",
       "[100 rows x 3 columns]"
      ]
     },
     "execution_count": 53,
     "metadata": {},
     "output_type": "execute_result"
    }
   ],
   "source": [
    "stand_scaler"
   ]
  },
  {
   "cell_type": "code",
   "execution_count": 54,
   "id": "fe51917f",
   "metadata": {},
   "outputs": [
    {
     "data": {
      "text/plain": [
       "<Axes: ylabel='Density'>"
      ]
     },
     "execution_count": 54,
     "metadata": {},
     "output_type": "execute_result"
    },
    {
     "data": {
      "image/png": "[encoded data removed]",
      "text/plain": [
       "<Figure size 640x480 with 1 Axes>"
      ]
     },
     "metadata": {},
     "output_type": "display_data"
    }
   ],
   "source": [
    "stand_scaler.plot.kde()"
   ]
  },
  {
   "cell_type": "markdown",
   "id": "1b8c2551",
   "metadata": {},
   "source": [
    "# Data Pre-Processing-Scaling Outliers&Normalization"
   ]
  },
  {
   "cell_type": "code",
   "execution_count": 55,
   "id": "4382104c",
   "metadata": {},
   "outputs": [],
   "source": [
    "import pandas as pd"
   ]
  },
  {
   "cell_type": "code",
   "execution_count": 56,
   "id": "16bf29ae",
   "metadata": {},
   "outputs": [],
   "source": [
    "import numpy as np"
   ]
  },
  {
   "cell_type": "code",
   "execution_count": 60,
   "id": "cb55a925",
   "metadata": {},
   "outputs": [],
   "source": [
    "outliers_df = pd.DataFrame({\n",
    "    'x1':np.concatenate([np.random.normal(20,1,100),np.random.normal(1,5,25)]),\n",
    "    'x2':np.concatenate([np.random.normal(230,1,100),np.random.normal(50,1,25)]),\n",
    "})    \n",
    "    "
   ]
  },
  {
   "cell_type": "code",
   "execution_count": 61,
   "id": "a24bc703",
   "metadata": {},
   "outputs": [
    {
     "data": {
      "text/html": [
       "<div>\n",
       "<style scoped>\n",
       "    .dataframe tbody tr th:only-of-type {\n",
       "        vertical-align: middle;\n",
       "    }\n",
       "\n",
       "    .dataframe tbody tr th {\n",
       "        vertical-align: top;\n",
       "    }\n",
       "\n",
       "    .dataframe thead th {\n",
       "        text-align: right;\n",
       "    }\n",
       "</style>\n",
       "<table border=\"1\" class=\"dataframe\">\n",
       "  <thead>\n",
       "    <tr style=\"text-align: right;\">\n",
       "      <th></th>\n",
       "      <th>x1</th>\n",
       "      <th>x2</th>\n",
       "    </tr>\n",
       "  </thead>\n",
       "  <tbody>\n",
       "    <tr>\n",
       "      <th>0</th>\n",
       "      <td>20.467406</td>\n",
       "      <td>230.720548</td>\n",
       "    </tr>\n",
       "    <tr>\n",
       "      <th>1</th>\n",
       "      <td>18.598690</td>\n",
       "      <td>231.152664</td>\n",
       "    </tr>\n",
       "    <tr>\n",
       "      <th>2</th>\n",
       "      <td>19.927736</td>\n",
       "      <td>228.128959</td>\n",
       "    </tr>\n",
       "    <tr>\n",
       "      <th>3</th>\n",
       "      <td>20.522100</td>\n",
       "      <td>229.436173</td>\n",
       "    </tr>\n",
       "    <tr>\n",
       "      <th>4</th>\n",
       "      <td>21.410688</td>\n",
       "      <td>228.869511</td>\n",
       "    </tr>\n",
       "    <tr>\n",
       "      <th>...</th>\n",
       "      <td>...</td>\n",
       "      <td>...</td>\n",
       "    </tr>\n",
       "    <tr>\n",
       "      <th>120</th>\n",
       "      <td>-10.589415</td>\n",
       "      <td>48.286692</td>\n",
       "    </tr>\n",
       "    <tr>\n",
       "      <th>121</th>\n",
       "      <td>5.057146</td>\n",
       "      <td>49.991349</td>\n",
       "    </tr>\n",
       "    <tr>\n",
       "      <th>122</th>\n",
       "      <td>-7.541593</td>\n",
       "      <td>50.346699</td>\n",
       "    </tr>\n",
       "    <tr>\n",
       "      <th>123</th>\n",
       "      <td>1.343838</td>\n",
       "      <td>50.631192</td>\n",
       "    </tr>\n",
       "    <tr>\n",
       "      <th>124</th>\n",
       "      <td>0.000980</td>\n",
       "      <td>50.128834</td>\n",
       "    </tr>\n",
       "  </tbody>\n",
       "</table>\n",
       "<p>125 rows × 2 columns</p>\n",
       "</div>"
      ],
      "text/plain": [
       "            x1          x2\n",
       "0    20.467406  230.720548\n",
       "1    18.598690  231.152664\n",
       "2    19.927736  228.128959\n",
       "3    20.522100  229.436173\n",
       "4    21.410688  228.869511\n",
       "..         ...         ...\n",
       "120 -10.589415   48.286692\n",
       "121   5.057146   49.991349\n",
       "122  -7.541593   50.346699\n",
       "123   1.343838   50.631192\n",
       "124   0.000980   50.128834\n",
       "\n",
       "[125 rows x 2 columns]"
      ]
     },
     "execution_count": 61,
     "metadata": {},
     "output_type": "execute_result"
    }
   ],
   "source": [
    "outliers_df"
   ]
  },
  {
   "cell_type": "code",
   "execution_count": 62,
   "id": "7839e6c6",
   "metadata": {},
   "outputs": [
    {
     "data": {
      "text/plain": [
       "<Axes: ylabel='Density'>"
      ]
     },
     "execution_count": 62,
     "metadata": {},
     "output_type": "execute_result"
    },
    {
     "data": {
      "image/png": "[encoded data removed]",
      "text/plain": [
       "<Figure size 640x480 with 1 Axes>"
      ]
     },
     "metadata": {},
     "output_type": "display_data"
    }
   ],
   "source": [
    "outliers_df.plot.kde()"
   ]
  },
  {
   "cell_type": "markdown",
   "id": "3dfbc3cb",
   "metadata": {},
   "source": [
    "# Robust Scaler Function"
   ]
  },
  {
   "cell_type": "code",
   "execution_count": 64,
   "id": "935b3bed",
   "metadata": {},
   "outputs": [],
   "source": [
    "from sklearn.preprocessing import RobustScaler"
   ]
  },
  {
   "cell_type": "code",
   "execution_count": 65,
   "id": "25c3f2c8",
   "metadata": {},
   "outputs": [],
   "source": [
    "rs = RobustScaler()"
   ]
  },
  {
   "cell_type": "markdown",
   "id": "0b0a9931",
   "metadata": {},
   "source": [
    "# Fitting & Viewing DataFrame"
   ]
  },
  {
   "cell_type": "code",
   "execution_count": 68,
   "id": "a8fb0866",
   "metadata": {},
   "outputs": [],
   "source": [
    "outliers_df = rs.fit_transform(outliers_df)"
   ]
  },
  {
   "cell_type": "code",
   "execution_count": 70,
   "id": "010a1d1a",
   "metadata": {},
   "outputs": [
    {
     "data": {
      "text/plain": [
       "array([[ 3.64503797e-01,  5.39088070e-01],\n",
       "       [-4.97891033e-01,  7.52196316e-01],\n",
       "       [ 1.15451115e-01, -7.39016286e-01],\n",
       "       [ 3.89744756e-01, -9.43320173e-02],\n",
       "       [ 7.99819887e-01, -3.73795001e-01],\n",
       "       [-2.54362525e-01,  1.91647562e-01],\n",
       "       [ 5.04920217e-01,  6.16936901e-01],\n",
       "       [-1.21826497e-01,  4.42782869e-01],\n",
       "       [-9.07181386e-03, -4.06826679e-01],\n",
       "       [-6.73075809e-01,  1.55603517e-01],\n",
       "       [-8.50877773e-02,  2.70236280e-02],\n",
       "       [-3.54000506e-01, -1.12263525e-01],\n",
       "       [-9.52631452e-03,  3.49971180e-01],\n",
       "       [ 3.80988293e-01, -1.28086626e-01],\n",
       "       [ 3.10490848e-01,  4.20971068e-01],\n",
       "       [-2.88047437e-01, -5.09455938e-01],\n",
       "       [-9.07546144e-02,  2.89752806e-01],\n",
       "       [-1.16512845e-01, -7.73927311e-01],\n",
       "       [ 3.94511148e-02,  2.30975966e-01],\n",
       "       [ 6.60142763e-01, -1.44372575e-01],\n",
       "       [ 5.40164102e-01,  4.08269627e-01],\n",
       "       [ 4.91585799e-01, -7.70902139e-01],\n",
       "       [ 7.62913915e-01,  4.26129209e-01],\n",
       "       [ 5.04642376e-01, -3.07073861e-01],\n",
       "       [-5.17615208e-01,  4.25497322e-02],\n",
       "       [-1.10617685e-01,  1.34570451e-02],\n",
       "       [-4.62027061e-01, -1.65629483e-01],\n",
       "       [ 2.84018828e-01,  2.01796367e-01],\n",
       "       [-1.37488276e-01, -6.00183254e-01],\n",
       "       [ 0.00000000e+00,  0.00000000e+00],\n",
       "       [ 6.45535848e-01,  8.71468057e-01],\n",
       "       [ 8.33168139e-01,  9.90266903e-01],\n",
       "       [-5.45357339e-01,  4.17364189e-01],\n",
       "       [ 7.00949070e-01, -6.85058891e-01],\n",
       "       [-5.22925062e-01,  5.58658891e-02],\n",
       "       [-5.89283265e-01, -6.36967973e-01],\n",
       "       [-3.54059715e-01, -1.17046290e-01],\n",
       "       [ 8.29555092e-02,  1.82042271e-01],\n",
       "       [-1.39037621e-01,  1.18220769e-01],\n",
       "       [ 7.20624154e-01, -1.39106339e-01],\n",
       "       [ 6.23226935e-01,  1.07943354e-01],\n",
       "       [ 8.69013145e-01,  9.61146199e-01],\n",
       "       [ 4.77074938e-01,  2.13683166e-01],\n",
       "       [-7.73969597e-02, -7.30514744e-02],\n",
       "       [ 8.33479873e-02,  6.26699831e-01],\n",
       "       [-9.71579560e-02,  2.40919620e-01],\n",
       "       [-1.31292753e-01,  1.23119904e-02],\n",
       "       [ 1.66147693e-01,  4.96850293e-02],\n",
       "       [-1.31941340e-01,  1.25214263e-01],\n",
       "       [ 7.95584825e-01, -3.54954272e-01],\n",
       "       [ 8.38811752e-01, -6.10959889e-01],\n",
       "       [ 6.14450155e-01, -4.80939406e-01],\n",
       "       [ 1.88011756e-01,  4.21577884e-01],\n",
       "       [ 5.02697311e-01,  5.47510469e-01],\n",
       "       [ 1.03527003e+00, -3.07747342e-01],\n",
       "       [ 8.26786241e-01,  1.33161753e+00],\n",
       "       [-7.53533361e-01, -5.51476771e-01],\n",
       "       [-3.13231391e-01, -8.40952667e-01],\n",
       "       [ 5.18929477e-01, -1.41423150e+00],\n",
       "       [ 4.66955470e-01,  6.21642385e-01],\n",
       "       [ 3.37984456e-01,  3.29263743e-01],\n",
       "       [ 6.29080896e-01,  4.06936220e-01],\n",
       "       [ 8.44169816e-01, -2.67150808e-01],\n",
       "       [-1.13890807e-01,  6.46298982e-01],\n",
       "       [-7.56697631e-02,  1.51408413e-01],\n",
       "       [ 3.52498741e-01,  5.62984926e-01],\n",
       "       [-2.62739043e-01,  2.35827593e-01],\n",
       "       [ 5.79531331e-01,  1.90475363e-01],\n",
       "       [-2.76340664e-01,  5.71830621e-01],\n",
       "       [ 7.79786906e-01,  7.54204395e-01],\n",
       "       [ 7.75451349e-01,  5.05980905e-02],\n",
       "       [-7.91510719e-01, -2.17893765e-02],\n",
       "       [ 2.13854523e-01,  4.43655233e-01],\n",
       "       [ 2.89712203e-01,  3.00694401e-01],\n",
       "       [ 3.35214396e-02,  3.88753926e-01],\n",
       "       [ 9.89938850e-01,  3.79107834e-01],\n",
       "       [-3.55708272e-01,  8.66837402e-01],\n",
       "       [ 1.78690443e-01,  3.63032027e-01],\n",
       "       [ 2.62835990e-01, -3.83867059e-01],\n",
       "       [ 2.83363625e-01,  4.81553127e-01],\n",
       "       [ 4.82200564e-01,  8.20166131e-02],\n",
       "       [-1.21218572e-01,  4.11388198e-01],\n",
       "       [-4.02422089e-01, -2.89313343e-02],\n",
       "       [ 1.55603035e+00, -2.47739772e-01],\n",
       "       [ 1.27167820e-01, -1.75088028e-01],\n",
       "       [ 1.76727184e-01,  3.84530794e-01],\n",
       "       [ 2.30217270e-01,  5.92378790e-02],\n",
       "       [ 8.80127847e-01, -1.57621464e-01],\n",
       "       [-8.92684453e-01,  1.29949703e+00],\n",
       "       [ 6.22278733e-01,  2.60556386e-01],\n",
       "       [ 3.06512914e-01,  3.32494107e-01],\n",
       "       [ 6.11390973e-01, -2.25014384e-01],\n",
       "       [ 4.54095672e-01, -3.74555886e-03],\n",
       "       [-1.05578237e-01, -1.17930027e-01],\n",
       "       [ 2.75089195e-01, -3.07742346e-02],\n",
       "       [ 2.36607750e-01,  3.72914707e-01],\n",
       "       [ 2.15938380e-01,  2.91912587e-01],\n",
       "       [-2.61862632e-01, -2.83943067e-02],\n",
       "       [ 1.63177491e-01,  2.18224170e-01],\n",
       "       [ 1.54332200e-01,  3.93322304e-01],\n",
       "       [-1.08870120e+01, -8.90533220e+01],\n",
       "       [-1.03233247e+01, -8.89675680e+01],\n",
       "       [-7.60522469e+00, -8.91009452e+01],\n",
       "       [-5.80522611e+00, -8.83783117e+01],\n",
       "       [-1.09632376e+01, -8.96114051e+01],\n",
       "       [-7.17079493e+00, -8.84010247e+01],\n",
       "       [-6.76774883e+00, -8.87653707e+01],\n",
       "       [-9.59770431e+00, -8.84997210e+01],\n",
       "       [-1.09120729e+01, -8.86720502e+01],\n",
       "       [-1.02852820e+01, -8.91975294e+01],\n",
       "       [-4.48382823e+00, -8.82992806e+01],\n",
       "       [-9.60019316e+00, -8.80201042e+01],\n",
       "       [-7.78203808e+00, -8.93791793e+01],\n",
       "       [-1.12806563e+01, -8.92121895e+01],\n",
       "       [-6.99843227e+00, -8.84842199e+01],\n",
       "       [-9.70678792e+00, -8.83287499e+01],\n",
       "       [-6.05305746e+00, -8.86574429e+01],\n",
       "       [-1.41879385e+01, -8.90380484e+01],\n",
       "       [-6.63552834e+00, -8.86523584e+01],\n",
       "       [-7.61276407e+00, -8.88245164e+01],\n",
       "       [-1.39679284e+01, -8.94325362e+01],\n",
       "       [-6.74718658e+00, -8.85918440e+01],\n",
       "       [-1.25613869e+01, -8.84165946e+01],\n",
       "       [-8.46084361e+00, -8.82762901e+01],\n",
       "       [-9.08055992e+00, -8.85240399e+01]])"
      ]
     },
     "execution_count": 70,
     "metadata": {},
     "output_type": "execute_result"
    }
   ],
   "source": [
    "outliers_df"
   ]
  },
  {
   "cell_type": "code",
   "execution_count": 78,
   "id": "f11d70e9",
   "metadata": {},
   "outputs": [],
   "source": [
    "outliers_df = pd.DataFrame(outliers_df,columns=['X1','X2',])"
   ]
  },
  {
   "cell_type": "code",
   "execution_count": 79,
   "id": "aa04c086",
   "metadata": {},
   "outputs": [
    {
     "data": {
      "text/html": [
       "<div>\n",
       "<style scoped>\n",
       "    .dataframe tbody tr th:only-of-type {\n",
       "        vertical-align: middle;\n",
       "    }\n",
       "\n",
       "    .dataframe tbody tr th {\n",
       "        vertical-align: top;\n",
       "    }\n",
       "\n",
       "    .dataframe thead th {\n",
       "        text-align: right;\n",
       "    }\n",
       "</style>\n",
       "<table border=\"1\" class=\"dataframe\">\n",
       "  <thead>\n",
       "    <tr style=\"text-align: right;\">\n",
       "      <th></th>\n",
       "      <th>X1</th>\n",
       "      <th>X2</th>\n",
       "    </tr>\n",
       "  </thead>\n",
       "  <tbody>\n",
       "    <tr>\n",
       "      <th>0</th>\n",
       "      <td>0.364504</td>\n",
       "      <td>0.539088</td>\n",
       "    </tr>\n",
       "    <tr>\n",
       "      <th>1</th>\n",
       "      <td>-0.497891</td>\n",
       "      <td>0.752196</td>\n",
       "    </tr>\n",
       "    <tr>\n",
       "      <th>2</th>\n",
       "      <td>0.115451</td>\n",
       "      <td>-0.739016</td>\n",
       "    </tr>\n",
       "    <tr>\n",
       "      <th>3</th>\n",
       "      <td>0.389745</td>\n",
       "      <td>-0.094332</td>\n",
       "    </tr>\n",
       "    <tr>\n",
       "      <th>4</th>\n",
       "      <td>0.799820</td>\n",
       "      <td>-0.373795</td>\n",
       "    </tr>\n",
       "    <tr>\n",
       "      <th>...</th>\n",
       "      <td>...</td>\n",
       "      <td>...</td>\n",
       "    </tr>\n",
       "    <tr>\n",
       "      <th>120</th>\n",
       "      <td>-13.967928</td>\n",
       "      <td>-89.432536</td>\n",
       "    </tr>\n",
       "    <tr>\n",
       "      <th>121</th>\n",
       "      <td>-6.747187</td>\n",
       "      <td>-88.591844</td>\n",
       "    </tr>\n",
       "    <tr>\n",
       "      <th>122</th>\n",
       "      <td>-12.561387</td>\n",
       "      <td>-88.416595</td>\n",
       "    </tr>\n",
       "    <tr>\n",
       "      <th>123</th>\n",
       "      <td>-8.460844</td>\n",
       "      <td>-88.276290</td>\n",
       "    </tr>\n",
       "    <tr>\n",
       "      <th>124</th>\n",
       "      <td>-9.080560</td>\n",
       "      <td>-88.524040</td>\n",
       "    </tr>\n",
       "  </tbody>\n",
       "</table>\n",
       "<p>125 rows × 2 columns</p>\n",
       "</div>"
      ],
      "text/plain": [
       "            X1         X2\n",
       "0     0.364504   0.539088\n",
       "1    -0.497891   0.752196\n",
       "2     0.115451  -0.739016\n",
       "3     0.389745  -0.094332\n",
       "4     0.799820  -0.373795\n",
       "..         ...        ...\n",
       "120 -13.967928 -89.432536\n",
       "121  -6.747187 -88.591844\n",
       "122 -12.561387 -88.416595\n",
       "123  -8.460844 -88.276290\n",
       "124  -9.080560 -88.524040\n",
       "\n",
       "[125 rows x 2 columns]"
      ]
     },
     "execution_count": 79,
     "metadata": {},
     "output_type": "execute_result"
    }
   ],
   "source": [
    "outliers_df"
   ]
  },
  {
   "cell_type": "code",
   "execution_count": 80,
   "id": "11534736",
   "metadata": {},
   "outputs": [
    {
     "data": {
      "text/plain": [
       "<Axes: ylabel='Density'>"
      ]
     },
     "execution_count": 80,
     "metadata": {},
     "output_type": "execute_result"
    },
    {
     "data": {
      "image/png": "[encoded data removed]",
      "text/plain": [
       "<Figure size 640x480 with 1 Axes>"
      ]
     },
     "metadata": {},
     "output_type": "display_data"
    }
   ],
   "source": [
    "outliers_df.plot.kde()"
   ]
  },
  {
   "cell_type": "code",
   "execution_count": null,
   "id": "06a09ea9",
   "metadata": {},
   "outputs": [],
   "source": []
  }
 ],
 "metadata": {
  "kernelspec": {
   "display_name": "Python 3 (ipykernel)",
   "language": "python",
   "name": "python3"
  },
  "language_info": {
   "codemirror_mode": {
    "name": "ipython",
    "version": 3
   },
   "file_extension": ".py",
   "mimetype": "text/x-python",
   "name": "python",
   "nbconvert_exporter": "python",
   "pygments_lexer": "ipython3",
   "version": "3.11.3"
  }
 },
 "nbformat": 4,
 "nbformat_minor": 5
}
